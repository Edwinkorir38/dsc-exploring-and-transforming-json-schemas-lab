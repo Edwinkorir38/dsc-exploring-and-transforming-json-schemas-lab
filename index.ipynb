{
 "cells": [
  {
   "cell_type": "markdown",
   "metadata": {},
   "source": [
    "# Exploring and Transforming JSON Schemas - Lab"
   ]
  },
  {
   "cell_type": "markdown",
   "metadata": {},
   "source": [
    "# Introduction\n",
    "\n",
    "In this lab, you'll practice exploring a JSON file whose structure and schema is unknown to you. We will provide you with limited information, and you will explore the dataset to answer the specified question."
   ]
  },
  {
   "cell_type": "markdown",
   "metadata": {},
   "source": [
    "## Objectives\n",
    "\n",
    "You will be able to:\n",
    "\n",
    "* Use the `json` module to load and parse JSON documents\n",
    "* Explore and extract data using unknown JSON schemas\n",
    "* Convert JSON to a pandas dataframe"
   ]
  },
  {
   "cell_type": "markdown",
   "metadata": {},
   "source": [
    "## Your Task: Create a Bar Graph of the Top 10 States with the Highest Asthma Rates for Adults Age 18+\n",
    "\n",
    "The information you need to create this graph is located in `disease_data.json`. It contains both data and metadata.\n",
    "\n",
    "You are given the following codebook/data dictionary:\n",
    "\n",
    "* The actual data values are associated with the key `'DataValue'`\n",
    "* The state names are associated with the key `'LocationDesc'`\n",
    "* To filter to the appropriate records, make sure:\n",
    "  * The `'Question'` is `'Current asthma prevalence among adults aged >= 18 years'`\n",
    "  * The `'StratificationCategoryID1'` is `'OVERALL'`\n",
    "  * The `'DataValueTypeID'` is `'CRDPREV'`\n",
    "  * The `'LocationDesc'` is not `'United States'`\n",
    "  \n",
    "The provided JSON file contains both data and metadata, and you will need to parse the metadata in order to understand the meanings of the values in the data.\n",
    "\n",
    "No further information about the structure of this file is provided."
   ]
  },
  {
   "cell_type": "markdown",
   "metadata": {},
   "source": [
    "## Load the JSON File\n",
    "\n",
    "Load the data from the file `disease_data.json` into a variable `data`."
   ]
  },
  {
   "cell_type": "code",
   "execution_count": 6,
   "metadata": {},
   "outputs": [
    {
     "name": "stdout",
     "output_type": "stream",
     "text": [
      "<class 'dict'>\n"
     ]
    }
   ],
   "source": [
    "# Your code here \n",
    "import json\n",
    "\n",
    "# Open and load the JSON file\n",
    "with open('disease_data.json', 'r') as f:\n",
    "    data = json.load(f)\n",
    "\n",
    "# Print to verify the data has been loaded\n",
    "print(type(data))  # Should print <class 'dict'> or <class 'list'> depending on the structure"
   ]
  },
  {
   "cell_type": "markdown",
   "metadata": {},
   "source": [
    "## Explore the Overall Structure\n",
    "\n",
    "What is the overall data type of `data`?"
   ]
  },
  {
   "cell_type": "code",
   "execution_count": 7,
   "metadata": {},
   "outputs": [
    {
     "name": "stdout",
     "output_type": "stream",
     "text": [
      "<class 'dict'>\n"
     ]
    }
   ],
   "source": [
    "# Your code here\n",
    "print(type(data))"
   ]
  },
  {
   "cell_type": "markdown",
   "metadata": {},
   "source": [
    "What are the keys?"
   ]
  },
  {
   "cell_type": "code",
   "execution_count": 8,
   "metadata": {},
   "outputs": [
    {
     "name": "stdout",
     "output_type": "stream",
     "text": [
      "dict_keys(['meta', 'data'])\n"
     ]
    }
   ],
   "source": [
    "# Your code here\n",
    "# Display the keys in the dictionary\n",
    "print(data.keys())"
   ]
  },
  {
   "cell_type": "markdown",
   "metadata": {},
   "source": [
    "What are the data types associates with those keys?"
   ]
  },
  {
   "cell_type": "code",
   "execution_count": 9,
   "metadata": {},
   "outputs": [
    {
     "name": "stdout",
     "output_type": "stream",
     "text": [
      "Key: meta, Data Type: <class 'dict'>\n",
      "Key: data, Data Type: <class 'list'>\n"
     ]
    }
   ],
   "source": [
    "# Your code here (data)\n",
    "# Display the keys and their associated data types\n",
    "for key, value in data.items():\n",
    "    print(f\"Key: {key}, Data Type: {type(value)}\")"
   ]
  },
  {
   "cell_type": "code",
   "execution_count": 10,
   "metadata": {},
   "outputs": [
    {
     "name": "stdout",
     "output_type": "stream",
     "text": [
      "Data type of 'meta': <class 'dict'>\n",
      "Contents of 'metadata': {'view': {'id': 'g4ie-h725', 'name': 'U.S. Chronic Disease Indicators (CDI)', 'attribution': 'Centers for Disease Control and Prevention, National Center for Chronic Disease Prevention and Health Promotion, Division of Population Health', 'attributionLink': 'http://www.cdc.gov/nccdphp/dph/', 'averageRating': 0, 'category': 'Chronic Disease Indicators', 'createdAt': 1463517008, 'description': \"CDC's Division of Population Health provides cross-cutting set of 124 indicators that were developed by consensus and that allows states and territories and large metropolitan areas to uniformly define, collect, and report chronic disease data that are important to public health practice and available for states, territories and large metropolitan areas. In addition to providing access to state-specific indicator data, the CDI web site serves as a gateway to additional information and data resources.\", 'displayType': 'table', 'downloadCount': 80068, 'hideFromCatalog': False, 'hideFromDataJson': False, 'indexUpdatedAt': 1531158109, 'licenseId': 'PUBLIC_DOMAIN', 'newBackend': False, 'numberOfComments': 0, 'oid': 28887577, 'provenance': 'official', 'publicationAppendEnabled': False, 'publicationDate': 1527195619, 'publicationGroup': 10787757, 'publicationStage': 'published', 'rowClass': '', 'rowsUpdatedAt': 1527194748, 'rowsUpdatedBy': 'fwb6-kmt3', 'tableId': 15222261, 'totalTimesRated': 0, 'viewCount': 15880, 'viewLastModified': 1531157635, 'viewType': 'tabular', 'columns': [{'id': -1, 'name': 'sid', 'dataTypeName': 'meta_data', 'fieldName': ':sid', 'position': 0, 'renderTypeName': 'meta_data', 'format': {}, 'flags': ['hidden']}, {'id': -1, 'name': 'id', 'dataTypeName': 'meta_data', 'fieldName': ':id', 'position': 0, 'renderTypeName': 'meta_data', 'format': {}, 'flags': ['hidden']}, {'id': -1, 'name': 'position', 'dataTypeName': 'meta_data', 'fieldName': ':position', 'position': 0, 'renderTypeName': 'meta_data', 'format': {}, 'flags': ['hidden']}, {'id': -1, 'name': 'created_at', 'dataTypeName': 'meta_data', 'fieldName': ':created_at', 'position': 0, 'renderTypeName': 'meta_data', 'format': {}, 'flags': ['hidden']}, {'id': -1, 'name': 'created_meta', 'dataTypeName': 'meta_data', 'fieldName': ':created_meta', 'position': 0, 'renderTypeName': 'meta_data', 'format': {}, 'flags': ['hidden']}, {'id': -1, 'name': 'updated_at', 'dataTypeName': 'meta_data', 'fieldName': ':updated_at', 'position': 0, 'renderTypeName': 'meta_data', 'format': {}, 'flags': ['hidden']}, {'id': -1, 'name': 'updated_meta', 'dataTypeName': 'meta_data', 'fieldName': ':updated_meta', 'position': 0, 'renderTypeName': 'meta_data', 'format': {}, 'flags': ['hidden']}, {'id': -1, 'name': 'meta', 'dataTypeName': 'meta_data', 'fieldName': ':meta', 'position': 0, 'renderTypeName': 'meta_data', 'format': {}, 'flags': ['hidden']}, {'id': 360864928, 'name': 'YearStart', 'dataTypeName': 'number', 'description': 'Starting Year\\n', 'fieldName': 'yearstart', 'position': 1, 'renderTypeName': 'number', 'tableColumnId': 36246792, 'width': 208, 'cachedContents': {'largest': '2016', 'non_null': 519718, 'average': '2013.141884637438', 'null': 0, 'top': [{'item': '2016', 'count': 20}, {'item': '2015', 'count': 19}, {'item': '2014', 'count': 18}, {'item': '2013', 'count': 17}, {'item': '2012', 'count': 16}, {'item': '2011', 'count': 15}, {'item': '2010', 'count': 14}, {'item': '2009', 'count': 13}, {'item': '2008', 'count': 12}, {'item': '2007', 'count': 11}, {'item': '2001', 'count': 10}], 'smallest': '2001', 'sum': '1046266074'}, 'format': {'precisionStyle': 'standard', 'noCommas': 'true', 'align': 'right'}}, {'id': 360864929, 'name': 'YearEnd', 'dataTypeName': 'number', 'description': 'Ending Year\\n', 'fieldName': 'yearend', 'position': 2, 'renderTypeName': 'number', 'tableColumnId': 36246793, 'width': 184, 'cachedContents': {'largest': '2016', 'non_null': 519718, 'average': '2013.162753647170', 'null': 0, 'top': [{'item': '2016', 'count': 20}, {'item': '2015', 'count': 19}, {'item': '2014', 'count': 18}, {'item': '2013', 'count': 17}, {'item': '2012', 'count': 16}, {'item': '2011', 'count': 15}, {'item': '2010', 'count': 14}, {'item': '2008', 'count': 13}, {'item': '2007', 'count': 12}, {'item': '2001', 'count': 11}], 'smallest': '2001', 'sum': '1046276920'}, 'format': {'precisionStyle': 'standard', 'noCommas': 'true', 'align': 'right'}}, {'id': 360864930, 'name': 'LocationAbbr', 'dataTypeName': 'text', 'description': 'Location Abbreviation\\n', 'fieldName': 'locationabbr', 'position': 3, 'renderTypeName': 'text', 'tableColumnId': 36246794, 'width': 244, 'cachedContents': {'largest': 'WY', 'non_null': 519718, 'null': 0, 'top': [{'item': 'GU', 'count': 20}, {'item': 'PR', 'count': 19}, {'item': 'VI', 'count': 18}, {'item': 'US', 'count': 17}, {'item': 'NH', 'count': 16}, {'item': 'NY', 'count': 15}, {'item': 'RI', 'count': 14}, {'item': 'SC', 'count': 13}, {'item': 'SD', 'count': 12}, {'item': 'VT', 'count': 11}, {'item': 'ME', 'count': 10}, {'item': 'DC', 'count': 9}, {'item': 'FL', 'count': 8}, {'item': 'HI', 'count': 7}, {'item': 'NM', 'count': 6}], 'smallest': 'AK'}, 'format': {'displayStyle': 'plain', 'align': 'left'}}, {'id': 360864931, 'name': 'LocationDesc', 'dataTypeName': 'text', 'description': 'Location Description\\n', 'fieldName': 'locationdesc', 'position': 4, 'renderTypeName': 'text', 'tableColumnId': 36246795, 'width': 244, 'cachedContents': {'largest': 'Wyoming', 'non_null': 519718, 'null': 0, 'top': [{'item': 'Guam', 'count': 20}, {'item': 'Puerto Rico', 'count': 19}, {'item': 'Virgin Islands', 'count': 18}, {'item': 'United States', 'count': 17}, {'item': 'New Hampshire', 'count': 16}, {'item': 'New York', 'count': 15}, {'item': 'Rhode Island', 'count': 14}, {'item': 'South Carolina', 'count': 13}, {'item': 'South Dakota', 'count': 12}, {'item': 'Vermont', 'count': 11}, {'item': 'Maine', 'count': 10}, {'item': 'District of Columbia', 'count': 9}, {'item': 'Florida', 'count': 8}, {'item': 'Hawaii', 'count': 7}, {'item': 'New Mexico', 'count': 6}], 'smallest': 'Alabama'}, 'format': {'displayStyle': 'plain', 'align': 'left'}}, {'id': 360864932, 'name': 'DataSource', 'dataTypeName': 'text', 'description': 'Data Source Abbreviation\\n', 'fieldName': 'datasource', 'position': 5, 'renderTypeName': 'text', 'tableColumnId': 36246796, 'width': 220, 'cachedContents': {'largest': 'YRBSS', 'non_null': 519718, 'null': 0, 'top': [{'item': 'BRFSS', 'count': 20}, {'item': 'YRBSS', 'count': 19}, {'item': 'ACS 5-Year Estimates', 'count': 18}, {'item': 'USRDS', 'count': 17}, {'item': 'CDC School Health Profiles', 'count': 16}, {'item': 'State Inpatient Data', 'count': 15}, {'item': 'NVSS', 'count': 14}, {'item': 'SEDD; SID', 'count': 13}, {'item': 'STATE', 'count': 12}, {'item': 'CDC Breastfeeding Report Card', 'count': 11}, {'item': 'APIS', 'count': 10}, {'item': 'Legal Research', 'count': 9}, {'item': 'mPINC', 'count': 8}, {'item': 'HRSA, UDS', 'count': 7}, {'item': 'ASHW', 'count': 6}, {'item': 'ANRF', 'count': 5}, {'item': 'AEDS', 'count': 4}, {'item': 'InfoUSA; USDA', 'count': 3}, {'item': 'WFRS', 'count': 2}, {'item': 'National Immunization Survey', 'count': 1}], 'smallest': 'ACS 1-Year Estimates'}, 'format': {'displayStyle': 'plain', 'align': 'left'}}, {'id': 360864933, 'name': 'Topic', 'dataTypeName': 'text', 'description': 'Topic\\n', 'fieldName': 'topic', 'position': 6, 'renderTypeName': 'text', 'tableColumnId': 36246797, 'width': 160, 'cachedContents': {'largest': 'Tobacco', 'non_null': 519718, 'null': 0, 'top': [{'item': 'Alcohol', 'count': 20}, {'item': 'Arthritis', 'count': 19}, {'item': 'Asthma', 'count': 18}, {'item': 'Cancer', 'count': 17}, {'item': 'Diabetes', 'count': 16}, {'item': 'Chronic Obstructive Pulmonary Disease', 'count': 15}, {'item': 'Mental Health', 'count': 14}, {'item': 'Oral Health', 'count': 13}, {'item': 'Cardiovascular Disease', 'count': 12}, {'item': 'Immunization', 'count': 11}, {'item': 'Chronic Kidney Disease', 'count': 10}, {'item': 'Nutrition, Physical Activity, and Weight Status', 'count': 9}, {'item': 'Older Adults', 'count': 8}, {'item': 'Tobacco', 'count': 7}, {'item': 'Overarching Conditions', 'count': 6}, {'item': 'Reproductive Health', 'count': 5}, {'item': 'Disability', 'count': 4}], 'smallest': 'Alcohol'}, 'format': {'displayStyle': 'plain', 'align': 'left'}}, {'id': 360864934, 'name': 'Question', 'dataTypeName': 'text', 'description': 'Question full-length text\\n', 'fieldName': 'question', 'position': 7, 'renderTypeName': 'text', 'tableColumnId': 36246798, 'width': 196, 'cachedContents': {'largest': 'Work limitation due to arthritis among adults aged 18-64 years who have doctor-diagnosed arthritis', 'non_null': 519718, 'null': 0, 'top': [{'item': 'Mortality due to diabetes reported as any listed cause of death', 'count': 20}, {'item': 'Mortality with diabetic ketoacidosis reported as any listed cause of death', 'count': 19}, {'item': 'Premature mortality among adults aged 45-64 years', 'count': 18}, {'item': 'Chronic liver disease mortality', 'count': 17}, {'item': 'Asthma mortality rate', 'count': 16}, {'item': 'Mortality with end-stage renal disease', 'count': 15}, {'item': 'Mortality with chronic obstructive pulmonary disease as underlying cause among adults aged >= 45 years', 'count': 14}, {'item': 'Mortality with chronic obstructive pulmonary disease as underlying or contributing cause among adults aged >= 45 years', 'count': 13}, {'item': 'Mortality from total cardiovascular diseases', 'count': 12}, {'item': 'Mortality from diseases of the heart', 'count': 11}, {'item': 'Mortality from coronary heart disease', 'count': 10}, {'item': 'Mortality from heart failure', 'count': 9}, {'item': 'Mortality from cerebrovascular disease (stroke)', 'count': 8}, {'item': 'Emergency department visit rate for asthma', 'count': 7}, {'item': 'Disability among adults aged >= 65 years', 'count': 6}, {'item': 'Poverty', 'count': 5}, {'item': 'Prevalence of 2 or more chronic conditions among Medicare-enrolled persons aged >= 65 years', 'count': 4}, {'item': 'Emergency department visit rate for chronic obstructive pulmonary disease as first-listed diagnosis', 'count': 3}, {'item': 'Emergency department visit rate for chronic obstructive pulmonary disease as any diagnosis', 'count': 2}, {'item': 'Hospitalizations for asthma', 'count': 1}], 'smallest': 'Activity limitation due to arthritis among adults aged >= 18 years who have doctor-diagnosed arthritis'}, 'format': {'displayStyle': 'plain', 'align': 'left'}}, {'id': 360864935, 'name': 'Response', 'dataTypeName': 'text', 'description': 'Response\\n', 'fieldName': 'response', 'position': 8, 'renderTypeName': 'text', 'tableColumnId': 36246799, 'width': 196, 'cachedContents': {'largest': ' ', 'non_null': 79188, 'null': 440530, 'top': [{'item': ' ', 'count': 20}], 'smallest': ' '}, 'format': {'displayStyle': 'plain', 'align': 'left'}}, {'id': 360864936, 'name': 'DataValueUnit', 'dataTypeName': 'text', 'description': 'The unit, such as $, %, years, etc.\\n', 'fieldName': 'datavalueunit', 'position': 9, 'renderTypeName': 'text', 'tableColumnId': 36246800, 'width': 256, 'cachedContents': {'largest': 'Years', 'non_null': 476046, 'null': 43672, 'top': [{'item': '%', 'count': 20}, {'item': 'Number', 'count': 19}, {'item': 'cases per 1,000,000', 'count': 18}, {'item': 'cases per 10,000', 'count': 17}, {'item': ' ', 'count': 16}, {'item': '$', 'count': 15}, {'item': 'Number ', 'count': 14}, {'item': 'cases per 100,000', 'count': 13}, {'item': 'gallons', 'count': 12}, {'item': 'pack sales per capita', 'count': 11}, {'item': 'per 100,000 residents', 'count': 10}, {'item': 'Years', 'count': 9}, {'item': 'per 100,000', 'count': 8}, {'item': 'cases per 1,000', 'count': 7}], 'smallest': ' '}, 'format': {'displayStyle': 'plain', 'align': 'left'}}, {'id': 360864937, 'name': 'DataValueType', 'dataTypeName': 'text', 'description': 'The data type, such as prevalence or mean\\n', 'fieldName': 'datavaluetype', 'position': 10, 'renderTypeName': 'text', 'tableColumnId': 36246802, 'width': 256, 'cachedContents': {'largest': 'Yes/No', 'non_null': 519718, 'null': 0, 'top': [{'item': 'Crude Prevalence', 'count': 20}, {'item': 'Age-adjusted Prevalence', 'count': 19}, {'item': 'Mean', 'count': 18}, {'item': 'Age-adjusted Mean', 'count': 17}, {'item': 'Number', 'count': 16}, {'item': 'Median', 'count': 15}, {'item': 'Adjusted by age, sex, race and ethnicity', 'count': 14}, {'item': 'Percent', 'count': 13}, {'item': 'Age-adjusted Rate', 'count': 12}, {'item': 'Crude Rate', 'count': 11}, {'item': 'Yes/No', 'count': 10}, {'item': 'US Dollars', 'count': 9}, {'item': 'Commercial host (dram shop) liability status for alcohol service', 'count': 8}, {'item': 'Local control of the regulation of alcohol outlet density', 'count': 7}, {'item': 'Per capita alcohol consumption', 'count': 6}, {'item': 'Prevalence', 'count': 5}, {'item': 'Average Annual Number', 'count': 4}, {'item': 'Average Annual Age-adjusted Rate', 'count': 3}, {'item': 'Average Annual Crude Rate', 'count': 2}], 'smallest': 'Adjusted by age, sex, race and ethnicity'}, 'format': {'displayStyle': 'plain', 'align': 'left'}}, {'id': 360864938, 'name': 'DataValue', 'dataTypeName': 'text', 'description': 'Data Value, such as 14.7 or Category 1\\n', 'fieldName': 'datavalue', 'position': 11, 'renderTypeName': 'text', 'tableColumnId': 36246803, 'width': 208, 'cachedContents': {'largest': 'Yes', 'non_null': 374564, 'null': 145154, 'top': [{'item': ' ', 'count': 20}, {'item': '83.2', 'count': 19}, {'item': '87.8', 'count': 18}, {'item': '86.8', 'count': 17}, {'item': '84.5', 'count': 16}, {'item': 'Yes', 'count': 15}, {'item': 'No', 'count': 14}, {'item': '3.2', 'count': 13}, {'item': '3.8', 'count': 12}, {'item': '4.4', 'count': 11}, {'item': '3.6', 'count': 10}, {'item': '2.9', 'count': 9}, {'item': '3.5', 'count': 8}, {'item': '4.3', 'count': 7}, {'item': '3', 'count': 6}, {'item': '4.9', 'count': 5}, {'item': '4.1', 'count': 4}, {'item': '4', 'count': 3}, {'item': '3.1', 'count': 2}, {'item': '3.7', 'count': 1}], 'smallest': ' '}, 'format': {'displayStyle': 'plain', 'align': 'left'}}, {'id': 360864939, 'name': 'DataValueAlt', 'dataTypeName': 'number', 'description': 'Equal to Data Value, but formatting is numeric\\n', 'fieldName': 'datavaluealt', 'position': 12, 'renderTypeName': 'number', 'tableColumnId': 36246804, 'width': 244, 'cachedContents': {'largest': '2600878', 'non_null': 350335, 'average': '891.7742131673969', 'null': 169383, 'top': [{'item': '83.2', 'count': 20}, {'item': '84.5', 'count': 19}, {'item': '87.8', 'count': 18}, {'item': '3.2', 'count': 17}, {'item': '3.8', 'count': 16}, {'item': '3.6', 'count': 15}, {'item': '3.5', 'count': 14}, {'item': '4.3', 'count': 13}, {'item': '3', 'count': 12}, {'item': '4.9', 'count': 11}, {'item': '4.1', 'count': 10}, {'item': '4', 'count': 9}, {'item': '3.1', 'count': 8}, {'item': '4.4', 'count': 7}, {'item': '3.7', 'count': 6}, {'item': '3.3', 'count': 5}, {'item': '3.9', 'count': 4}, {'item': '2.8', 'count': 3}, {'item': '4.2', 'count': 2}, {'item': '2.9', 'count': 1}], 'smallest': '0', 'sum': '312419718.97'}, 'format': {'precisionStyle': 'standard', 'noCommas': 'false', 'align': 'right'}}, {'id': 360864940, 'name': 'DataValueFootnoteSymbol', 'dataTypeName': 'text', 'description': 'Footnote Symbol\\n', 'fieldName': 'datavaluefootnotesymbol', 'position': 13, 'renderTypeName': 'text', 'tableColumnId': 36246805, 'width': 376, 'cachedContents': {'largest': 'â€\\xa0â€\\xa0â€\\xa0', 'non_null': 227318, 'null': 292400, 'top': [{'item': '*', 'count': 20}, {'item': '****', 'count': 19}, {'item': '-', 'count': 18}, {'item': '##', 'count': 17}, {'item': '***', 'count': 16}, {'item': ' ', 'count': 15}, {'item': '~', 'count': 14}, {'item': '^^', 'count': 13}, {'item': 'Â§,â€¡', 'count': 12}, {'item': 'Â§', 'count': 11}, {'item': '^^^', 'count': 10}, {'item': 'â€\\xa0â€\\xa0â€\\xa0', 'count': 9}, {'item': 'Â§,â€¡,^', 'count': 8}, {'item': '#', 'count': 7}, {'item': '*, #', 'count': 6}, {'item': 'Â§Â§', 'count': 5}, {'item': '~~~', 'count': 4}, {'item': '^^^^', 'count': 3}, {'item': '**', 'count': 2}], 'smallest': ' '}, 'format': {'displayStyle': 'plain', 'align': 'left'}}, {'id': 360864941, 'name': 'DatavalueFootnote', 'dataTypeName': 'text', 'description': 'Footnote Text\\n', 'fieldName': 'datavaluefootnote', 'position': 14, 'renderTypeName': 'text', 'tableColumnId': 36246806, 'width': 304, 'cachedContents': {'largest': 'US Median based on the number of participating states and/or excluding states with sample size below 50 or relative standard error above 30%', 'non_null': 227152, 'null': 292566, 'top': [{'item': '50 States + DC: US Median', 'count': 20}, {'item': 'Sample size of denominator and/or age group for age-standardization is less than 50 or relative standard error is more than 30%', 'count': 19}, {'item': 'No data available', 'count': 18}, {'item': 'Estimate is 0.0% because no cases were reported with this condition', 'count': 17}, {'item': 'US Median based on the number of participating states and/or excluding states with sample size below 50 or relative standard error above 30%', 'count': 16}, {'item': ' ', 'count': 15}, {'item': 'Data not shown because of too few respondents or cases', 'count': 14}, {'item': 'State directly controlled the sale of (beer/wine/distilled spirits) at the retail and/or wholesale levels. State prices for (beer/wine/distilled spirits) combined both markups and taxes, so tax rates for this beverage type could not be determined.', 'count': 13}, {'item': 'Population served by CWS exceeded the US Census state population estimate; number of people was reduced by the ratio of the population estimate to the CWS population estimate.  Complete data were not available from WFRS; state provided additional information.', 'count': 12}, {'item': 'Population served by CWS exceeded the US Census state population estimate; number of people was reduced by the ratio of the population estimate to the CWS population estimate', 'count': 11}, {'item': 'DC was not rated for this measure because the measure addresses state versus local authority and does not apply to the District of Columbia', 'count': 10}, {'item': 'A confidence interval for this location is not available because a census was used instead of a sample for their surveys', 'count': 9}, {'item': 'Population served by CWS exceeded the US Census state population estimate; number of people was reduced by the ratio of the population estimate to the CWS population estimate.  Complete data were not available from WFRS; state provided additional information.  California is developing new methodology to describe the fluoridated status of water systems that draw water from multiple sources (e.g., ground water, surface water). This report does not reflect Californiaâ€™s new methodology.', 'count': 8}, {'item': 'NSCH Data provided by Data Resource Center for Child and Adolescent Health.  http://www.childhealthdata.org', 'count': 7}, {'item': '50 states + DC:  Median Percent; NSCH Data provided by Data Resource Center for Child and Adolescent Health.  http://www.childhealthdata.org', 'count': 6}, {'item': 'Per capita alcohol consumption was calculated using (1) alcohol beverage sales data, either collected directly from states or provided by beverage industry sources (numerator); and (2) population data from the U.S. Census Bureau (denominator).', 'count': 5}, {'item': 'Data are not available because cancer registry did not meet the data quality criteria for all the years for publication in United States Cancer statistics (USCS)', 'count': 4}, {'item': 'Data are from cancer registries that meet the data quality criteria for all invasive cancer sites combined, for all years covering approximately 99% of the U.S. population. See registry-specific data quality information at http://www.cdc.gov/cancer/npcr/uscs/data/00_data_quality.htm', 'count': 3}, {'item': 'US estimate/number is based on fewer than 50 states and the District of Columbia', 'count': 2}], 'smallest': ' '}, 'format': {'displayStyle': 'plain', 'align': 'left'}}, {'id': 360864942, 'name': 'LowConfidenceLimit', 'dataTypeName': 'number', 'description': 'Low Confidence Limit\\n', 'fieldName': 'lowconfidencelimit', 'position': 15, 'renderTypeName': 'number', 'tableColumnId': 36246807, 'width': 316, 'cachedContents': {'largest': '1330.66', 'non_null': 311062, 'average': '46.75940127691586', 'null': 208656, 'top': [{'item': '10.7', 'count': 20}, {'item': '13.9', 'count': 19}, {'item': '11.4', 'count': 18}, {'item': '11', 'count': 17}, {'item': '10.3', 'count': 16}, {'item': '12.4', 'count': 15}, {'item': '3.7', 'count': 14}, {'item': '3.4', 'count': 13}, {'item': '3.3', 'count': 12}, {'item': '2.7', 'count': 11}, {'item': '3.2', 'count': 10}, {'item': '4.1', 'count': 9}, {'item': '2.8', 'count': 8}, {'item': '4.7', 'count': 7}, {'item': '3.8', 'count': 6}, {'item': '3.6', 'count': 5}, {'item': '3.9', 'count': 4}, {'item': '2.9', 'count': 3}, {'item': '3.5', 'count': 2}, {'item': '3.1', 'count': 1}], 'smallest': '0.2', 'sum': '14545072.88'}, 'format': {'precisionStyle': 'standard', 'noCommas': 'false', 'align': 'right'}}, {'id': 360864943, 'name': 'HighConfidenceLimit', 'dataTypeName': 'number', 'description': 'High Confidence Limit\\n', 'fieldName': 'highconfidencelimit', 'position': 16, 'renderTypeName': 'number', 'tableColumnId': 36246808, 'width': 328, 'cachedContents': {'largest': '2088.00', 'non_null': 311062, 'average': '58.99128656023558', 'null': 208656, 'top': [{'item': '12.3', 'count': 20}, {'item': '11.1', 'count': 19}, {'item': '3.5', 'count': 18}, {'item': '4.4', 'count': 17}, {'item': '5', 'count': 16}, {'item': '4', 'count': 15}, {'item': '3.7', 'count': 14}, {'item': '3.8', 'count': 13}, {'item': '4.3', 'count': 12}, {'item': '4.7', 'count': 11}, {'item': '3.9', 'count': 10}, {'item': '3.2', 'count': 9}, {'item': '4.2', 'count': 8}, {'item': '4.6', 'count': 7}, {'item': '3.3', 'count': 6}, {'item': '5.2', 'count': 5}, {'item': '4.5', 'count': 4}, {'item': '4.1', 'count': 3}, {'item': '3', 'count': 2}, {'item': '3.1', 'count': 1}], 'smallest': '0.42', 'sum': '18349947.58'}, 'format': {'precisionStyle': 'standard', 'noCommas': 'false', 'align': 'right'}}, {'id': 360864944, 'name': 'StratificationCategory1', 'dataTypeName': 'text', 'description': 'The category of the stratification, such as Gender, Overall, or Race/Ethnicity\\n', 'fieldName': 'stratificationcategory1', 'position': 17, 'renderTypeName': 'text', 'tableColumnId': 36246809, 'width': 376, 'cachedContents': {'largest': 'Race/Ethnicity', 'non_null': 519718, 'null': 0, 'top': [{'item': 'Overall', 'count': 20}, {'item': 'Gender', 'count': 19}, {'item': 'Race/Ethnicity', 'count': 18}], 'smallest': 'Gender'}, 'format': {'displayStyle': 'plain', 'align': 'left'}}, {'id': 360864945, 'name': 'Stratification1', 'dataTypeName': 'text', 'description': 'The stratification within the category, such as Male or Female, White/non-Hispanic, Hispanic, Black/non-Hispanic, American Indian or Alaska Native, Asian or Pacific Islander, Multi-racial/non-Hispanic, Other/non-Hispanic, or Overall\\n', 'fieldName': 'stratification1', 'position': 18, 'renderTypeName': 'text', 'tableColumnId': 36246810, 'width': 280, 'cachedContents': {'largest': 'White, non-Hispanic', 'non_null': 519718, 'null': 0, 'top': [{'item': 'Overall', 'count': 20}, {'item': 'Male', 'count': 19}, {'item': 'Female', 'count': 18}, {'item': 'White, non-Hispanic', 'count': 17}, {'item': 'Black, non-Hispanic', 'count': 16}, {'item': 'Hispanic', 'count': 15}, {'item': 'Other, non-Hispanic', 'count': 14}, {'item': 'Multiracial, non-Hispanic', 'count': 13}, {'item': 'American Indian or Alaska Native', 'count': 12}, {'item': 'Asian or Pacific Islander', 'count': 11}, {'item': 'Asian, non-Hispanic', 'count': 10}], 'smallest': 'American Indian or Alaska Native'}, 'format': {'displayStyle': 'plain', 'align': 'left'}}, {'id': 360864946, 'name': 'StratificationCategory2', 'dataTypeName': 'text', 'fieldName': 'stratificationcategory2', 'position': 19, 'renderTypeName': 'text', 'tableColumnId': 36246811, 'width': 376, 'cachedContents': {'largest': ' ', 'non_null': 79188, 'null': 440530, 'top': [{'item': ' ', 'count': 20}], 'smallest': ' '}, 'format': {}}, {'id': 360864947, 'name': 'Stratification2', 'dataTypeName': 'text', 'fieldName': 'stratification2', 'position': 20, 'renderTypeName': 'text', 'tableColumnId': 36246812, 'width': 280, 'cachedContents': {'largest': ' ', 'non_null': 79188, 'null': 440530, 'top': [{'item': ' ', 'count': 20}], 'smallest': ' '}, 'format': {}}, {'id': 360864948, 'name': 'StratificationCategory3', 'dataTypeName': 'text', 'fieldName': 'stratificationcategory3', 'position': 21, 'renderTypeName': 'text', 'tableColumnId': 36246813, 'width': 376, 'cachedContents': {'largest': ' ', 'non_null': 79188, 'null': 440530, 'top': [{'item': ' ', 'count': 20}], 'smallest': ' '}, 'format': {}}, {'id': 360864949, 'name': 'Stratification3', 'dataTypeName': 'text', 'fieldName': 'stratification3', 'position': 22, 'renderTypeName': 'text', 'tableColumnId': 36246814, 'width': 280, 'cachedContents': {'largest': ' ', 'non_null': 79188, 'null': 440530, 'top': [{'item': ' ', 'count': 20}], 'smallest': ' '}, 'format': {}}, {'id': 360864950, 'name': 'GeoLocation', 'dataTypeName': 'location', 'description': 'Location code to be used for Geocoding\\n', 'fieldName': 'geolocation', 'position': 23, 'renderTypeName': 'location', 'tableColumnId': 36246815, 'width': 232, 'cachedContents': {'largest': {'latitude': '34.52088095200048', 'longitude': '-106.24058098499967'}, 'non_null': 516115, 'null': 3603, 'top': [{'item': {'latitude': '13.444304', 'longitude': '144.793731'}, 'count': 20}, {'item': {'latitude': '18.220833', 'longitude': '-66.590149'}, 'count': 19}, {'item': {'latitude': '18.335765', 'longitude': '-64.896335'}, 'count': 18}, {'item': {'latitude': '31.827240407000488', 'longitude': '-99.42677020599967'}, 'count': 17}, {'item': {'latitude': '39.360700171000474', 'longitude': '-111.58713063499971'}, 'count': 16}, {'item': {'latitude': '43.62538123900049', 'longitude': '-72.51764079099962'}, 'count': 15}, {'item': {'latitude': '37.54268067400045', 'longitude': '-78.45789046299967'}, 'count': 14}, {'item': {'latitude': '47.52227862900048', 'longitude': '-120.47001078999972'}, 'count': 13}, {'item': {'latitude': '38.66551020200046', 'longitude': '-80.71264013499967'}, 'count': 12}, {'item': {'latitude': '44.39319117400049', 'longitude': '-89.81637074199966'}, 'count': 11}, {'item': {'latitude': '43.23554134300048', 'longitude': '-108.10983035299967'}, 'count': 10}, {'item': {'latitude': '38.907192', 'longitude': '-77.036871'}, 'count': 9}, {'item': {'latitude': '43.65595011300047', 'longitude': '-71.50036091999965'}, 'count': 8}, {'item': {'latitude': '45.254228894000505', 'longitude': '-68.98503133599962'}, 'count': 7}, {'item': {'latitude': '42.27687047000046', 'longitude': '-72.08269067499964'}, 'count': 6}, {'item': {'latitude': '37.63864012300047', 'longitude': '-120.99999953799971'}, 'count': 5}, {'item': {'latitude': '38.843840757000464', 'longitude': '-106.13361092099967'}, 'count': 4}, {'item': {'latitude': '42.46940091300047', 'longitude': '-93.81649055599968'}, 'count': 3}, {'item': {'latitude': '39.766910452000445', 'longitude': '-86.14996019399968'}, 'count': 2}, {'item': {'latitude': '46.35564873600049', 'longitude': '-94.79420050299967'}, 'count': 1}], 'smallest': {'latitude': '32.84057112200048', 'longitude': '-86.63186076199969'}}, 'format': {'view': 'address_coords', 'align': 'left'}, 'subColumnTypes': ['human_address', 'latitude', 'longitude', 'machine_address', 'needs_recoding']}, {'id': 360864951, 'name': 'ResponseID', 'dataTypeName': 'text', 'description': 'Identifier for the Response\\n', 'fieldName': 'responseid', 'position': 24, 'renderTypeName': 'text', 'tableColumnId': 36246818, 'width': 220, 'cachedContents': {'largest': ' ', 'non_null': 79176, 'null': 440542, 'top': [{'item': ' ', 'count': 20}], 'smallest': ' '}, 'format': {'displayStyle': 'plain', 'align': 'left'}}, {'id': 360864952, 'name': 'LocationID', 'dataTypeName': 'text', 'description': 'Location Identifier\\n', 'fieldName': 'locationid', 'position': 25, 'renderTypeName': 'text', 'tableColumnId': 36246819, 'width': 220, 'cachedContents': {'largest': '78', 'non_null': 519718, 'null': 0, 'top': [{'item': '66', 'count': 20}, {'item': '72', 'count': 19}, {'item': '78', 'count': 18}, {'item': '59', 'count': 17}, {'item': '33', 'count': 16}, {'item': '36', 'count': 15}, {'item': '44', 'count': 14}, {'item': '45', 'count': 13}, {'item': '46', 'count': 12}, {'item': '50', 'count': 11}, {'item': '23', 'count': 10}, {'item': '11', 'count': 9}, {'item': '12', 'count': 8}, {'item': '15', 'count': 7}, {'item': '35', 'count': 6}], 'smallest': '01'}, 'format': {'displayStyle': 'plain', 'align': 'left'}}, {'id': 360864953, 'name': 'TopicID', 'dataTypeName': 'text', 'fieldName': 'topicid', 'position': 26, 'renderTypeName': 'text', 'tableColumnId': 36246816, 'width': 184, 'cachedContents': {'largest': 'TOB', 'non_null': 519718, 'null': 0, 'top': [{'item': 'ALC', 'count': 20}, {'item': 'ART', 'count': 19}, {'item': 'AST', 'count': 18}, {'item': 'CAN', 'count': 17}, {'item': 'DIA', 'count': 16}, {'item': 'COPD', 'count': 15}, {'item': 'MTH', 'count': 14}, {'item': 'ORH', 'count': 13}, {'item': 'CVD', 'count': 12}, {'item': 'IMM', 'count': 11}, {'item': 'CKD', 'count': 10}, {'item': 'NPAW', 'count': 9}, {'item': 'OLD', 'count': 8}, {'item': 'TOB', 'count': 7}, {'item': 'OVC', 'count': 6}, {'item': 'RPH', 'count': 5}, {'item': 'DIS', 'count': 4}], 'smallest': 'ALC'}, 'format': {}}, {'id': 360864954, 'name': 'QuestionID', 'dataTypeName': 'text', 'description': 'Question Identifier\\n', 'fieldName': 'questionid', 'position': 27, 'renderTypeName': 'text', 'tableColumnId': 36246817, 'width': 220, 'cachedContents': {'largest': 'TOB9_0', 'non_null': 519718, 'null': 0, 'top': [{'item': 'DIA1_1', 'count': 20}, {'item': 'DIA1_2', 'count': 19}, {'item': 'OVC5_0', 'count': 18}, {'item': 'ALC6_0', 'count': 17}, {'item': 'AST4_1', 'count': 16}, {'item': 'CKD1_0', 'count': 15}, {'item': 'COPD1_1', 'count': 14}, {'item': 'COPD1_2', 'count': 13}, {'item': 'CVD1_1', 'count': 12}, {'item': 'CVD1_2', 'count': 11}, {'item': 'CVD1_3', 'count': 10}, {'item': 'CVD1_4', 'count': 9}, {'item': 'CVD1_5', 'count': 8}, {'item': 'AST2_1', 'count': 7}, {'item': 'DIS1_0', 'count': 6}, {'item': 'OVC3_1', 'count': 5}, {'item': 'OLD4_0', 'count': 4}, {'item': 'COPD6_1', 'count': 3}, {'item': 'COPD6_2', 'count': 2}, {'item': 'AST3_1', 'count': 1}], 'smallest': 'ALC1_1'}, 'format': {'displayStyle': 'plain', 'align': 'left'}}, {'id': 360864955, 'name': 'DataValueTypeID', 'dataTypeName': 'text', 'description': 'Identifier for the Data Value Type\\n', 'fieldName': 'datavaluetypeid', 'position': 28, 'renderTypeName': 'text', 'tableColumnId': 36246801, 'width': 280, 'cachedContents': {'largest': 'YESNO', 'non_null': 519718, 'null': 0, 'top': [{'item': 'CRDPREV', 'count': 20}, {'item': 'AGEADJPREV', 'count': 19}, {'item': 'MEAN', 'count': 18}, {'item': 'AGEADJMEAN', 'count': 17}, {'item': 'NMBR', 'count': 16}, {'item': 'MEDIAN', 'count': 15}, {'item': 'AGESEXRACEADJRATE', 'count': 14}, {'item': 'PRCT', 'count': 13}, {'item': 'AGEADJRATE', 'count': 12}, {'item': 'CRDRATE', 'count': 11}, {'item': 'YESNO', 'count': 10}, {'item': 'USD', 'count': 9}, {'item': 'COMMHSTLIAB', 'count': 8}, {'item': 'LCLCNTRLALC', 'count': 7}, {'item': 'PERCAPALC', 'count': 6}, {'item': 'PREV', 'count': 5}, {'item': 'AVGANNNMBR', 'count': 4}, {'item': 'AVGANNAGEADJRATE', 'count': 3}, {'item': 'AVGANNCRDRATE', 'count': 2}], 'smallest': 'AGEADJMEAN'}, 'format': {'displayStyle': 'plain', 'align': 'left'}}, {'id': 360864956, 'name': 'StratificationCategoryID1', 'dataTypeName': 'text', 'description': 'Identifier for stratification category 1\\n', 'fieldName': 'stratificationcategoryid1', 'position': 29, 'renderTypeName': 'text', 'tableColumnId': 36246820, 'width': 400, 'cachedContents': {'largest': 'RACE', 'non_null': 519718, 'null': 0, 'top': [{'item': 'OVERALL', 'count': 20}, {'item': 'GENDER', 'count': 19}, {'item': 'RACE', 'count': 18}], 'smallest': 'GENDER'}, 'format': {'displayStyle': 'plain', 'align': 'left'}}, {'id': 360864957, 'name': 'StratificationID1', 'dataTypeName': 'text', 'description': 'Identifier for stratification 1\\n', 'fieldName': 'stratificationid1', 'position': 30, 'renderTypeName': 'text', 'tableColumnId': 36246821, 'width': 304, 'cachedContents': {'largest': 'WHT', 'non_null': 519718, 'null': 0, 'top': [{'item': 'OVR', 'count': 20}, {'item': 'GENM', 'count': 19}, {'item': 'GENF', 'count': 18}, {'item': 'WHT', 'count': 17}, {'item': 'BLK', 'count': 16}, {'item': 'HIS', 'count': 15}, {'item': 'OTH', 'count': 14}, {'item': 'MRC', 'count': 13}, {'item': 'AIAN', 'count': 12}, {'item': 'API', 'count': 11}, {'item': 'ASN', 'count': 10}], 'smallest': 'AIAN'}, 'format': {'displayStyle': 'plain', 'align': 'left'}}, {'id': 360864958, 'name': 'StratificationCategoryID2', 'dataTypeName': 'text', 'fieldName': 'stratificationcategoryid2', 'position': 31, 'renderTypeName': 'text', 'tableColumnId': 36246822, 'width': 400, 'cachedContents': {'largest': ' ', 'non_null': 79189, 'null': 440529, 'top': [{'item': ' ', 'count': 20}], 'smallest': ' '}, 'format': {}}, {'id': 360864959, 'name': 'StratificationID2', 'dataTypeName': 'text', 'fieldName': 'stratificationid2', 'position': 32, 'renderTypeName': 'text', 'tableColumnId': 36246823, 'width': 304, 'cachedContents': {'largest': ' ', 'non_null': 79189, 'null': 440529, 'top': [{'item': ' ', 'count': 20}], 'smallest': ' '}, 'format': {}}, {'id': 360864960, 'name': 'StratificationCategoryID3', 'dataTypeName': 'text', 'fieldName': 'stratificationcategoryid3', 'position': 33, 'renderTypeName': 'text', 'tableColumnId': 36246824, 'width': 400, 'cachedContents': {'largest': ' ', 'non_null': 79188, 'null': 440530, 'top': [{'item': ' ', 'count': 20}], 'smallest': ' '}, 'format': {}}, {'id': 360864961, 'name': 'StratificationID3', 'dataTypeName': 'text', 'fieldName': 'stratificationid3', 'position': 34, 'renderTypeName': 'text', 'tableColumnId': 36246825, 'width': 304, 'cachedContents': {'largest': ' ', 'non_null': 79188, 'null': 440530, 'top': [{'item': ' ', 'count': 20}], 'smallest': ' '}, 'format': {}}], 'grants': [{'inherited': False, 'type': 'viewer', 'flags': ['public']}], 'license': {'name': 'Public Domain'}, 'metadata': {'rdfSubject': '0', 'rdfClass': '', 'custom_fields': {'Common Core': {'Contact Email': 'PublicInquiriesDPH@cdc.gov', 'Described By': 'https://chronicdata.cdc.gov/Chronic-Disease-Indicators/U-S-Chronic-Disease-Indicators-CDI-/g4ie-h725', 'References': 'https://www.cdc.gov/mmwr/pdf/rr/rr6401.pdf', 'Contact Name': 'DPH Public Inquiries', 'Program Code': '009:020', 'Publisher': 'Centers for Disease Control and Prevention', 'Bureau Code': '009:20', 'Public Access Level': 'Public Domain'}}, 'rowIdentifier': '0', 'rowLabel': 'Row', 'availableDisplayTypes': ['table', 'fatrow', 'page'], 'renderTypeConfig': {'visible': {'table': True}}}, 'owner': {'id': 'isr2-3jff', 'displayName': 'DPH Public Inquiries', 'screenName': 'DPH Public Inquiries', 'type': 'interactive'}, 'query': {}, 'rights': ['read'], 'tableAuthor': {'id': 'isr2-3jff', 'displayName': 'DPH Public Inquiries', 'screenName': 'DPH Public Inquiries', 'type': 'interactive'}, 'tags': ['cdi', 'chronic disease indicators', 'alcohol', 'arthritis', 'asthma', 'cancer', 'cardiovascular disease', 'chronic kidney disease', 'chronic obstructive pulmonary disease', 'diabetes', 'disability', 'immunization', 'mental health', 'nutrition physical activity and weight status', 'older adults', 'oral health', 'overarching conditions', 'reproductive health', 'tobacco', 'public health'], 'flags': ['default', 'restorable', 'restorePossibleForType']}}\n"
     ]
    }
   ],
   "source": [
    "# Your code here (metadata)\n",
    "# Check the data type of the 'metadata' key\n",
    "metadata_value = data['meta']\n",
    "print(f\"Data type of 'meta': {type(metadata_value)}\")\n",
    "\n",
    "# Optionally, display the contents of 'metadata'\n",
    "print(\"Contents of 'metadata':\", metadata_value)"
   ]
  },
  {
   "cell_type": "markdown",
   "metadata": {},
   "source": []
  },
  {
   "cell_type": "markdown",
   "metadata": {},
   "source": [
    "Perform additional exploration to understand the contents of these values. For dictionaries, what are their keys? For lists, what is the length, and what does the first element look like?"
   ]
  },
  {
   "cell_type": "code",
   "execution_count": 11,
   "metadata": {},
   "outputs": [
    {
     "name": "stdout",
     "output_type": "stream",
     "text": [
      "Key: meta, Data Type: <class 'dict'>\n",
      "Keys in the 'meta' dictionary: dict_keys(['view'])\n",
      "----------------------------------------\n",
      "Key: data, Data Type: <class 'list'>\n",
      "Length of the list in 'data': 60266\n",
      "First element in the list of 'data': [1, 'FF49C41F-CE8D-46C4-9164-653B1227CF6F', 1, 1527194521, '959778', 1527194521, '959778', None, '2016', '2016', 'US', 'United States', 'BRFSS', 'Alcohol', 'Binge drinking prevalence among adults aged >= 18 years', None, '%', 'Crude Prevalence', '16.9', '16.9', '*', '50 States + DC: US Median', '16', '18', 'Overall', 'Overall', None, None, None, None, [None, None, None, None, None], None, '59', 'ALC', 'ALC2_2', 'CRDPREV', 'OVERALL', 'OVR', None, None, None, None]\n",
      "----------------------------------------\n"
     ]
    }
   ],
   "source": [
    "# Your code here (add additional cells as needed)\n",
    "# Explore the contents of each key in the data dictionary\n",
    "for key, value in data.items():\n",
    "    print(f\"Key: {key}, Data Type: {type(value)}\")\n",
    "    \n",
    "    if isinstance(value, dict):\n",
    "        # If the value is a dictionary, display its keys\n",
    "        print(f\"Keys in the '{key}' dictionary: {value.keys()}\")\n",
    "    elif isinstance(value, list):\n",
    "        # If the value is a list, display its length and the first element\n",
    "        print(f\"Length of the list in '{key}': {len(value)}\")\n",
    "        if len(value) > 0:\n",
    "            print(f\"First element in the list of '{key}': {value[0]}\")\n",
    "    else:\n",
    "        # For other data types, just print the value\n",
    "        print(f\"Value of '{key}': {value}\")\n",
    "    \n",
    "    print(\"-\" * 40)  # Separator for clarity"
   ]
  },
  {
   "cell_type": "markdown",
   "metadata": {},
   "source": [
    "As you likely identified, we have a list of lists forming the `'data'`. In order to make sense of that list of lists, we need to find the meaning of each index, i.e. the names of the columns.\n",
    "\n",
    "## Identify the Column Names\n",
    "\n",
    "Look through the metadata to find the *names* of the columns, and assign that variable to `column_names`. This should be a list of strings. (If you just get the values associated with the `'columns'` key, you will have a list of dictionaries, not a list of strings.)"
   ]
  },
  {
   "cell_type": "code",
   "execution_count": 12,
   "metadata": {},
   "outputs": [
    {
     "name": "stdout",
     "output_type": "stream",
     "text": [
      "Column Names: ['sid', 'id', 'position', 'created_at', 'created_meta', 'updated_at', 'updated_meta', 'meta', 'YearStart', 'YearEnd', 'LocationAbbr', 'LocationDesc', 'DataSource', 'Topic', 'Question', 'Response', 'DataValueUnit', 'DataValueType', 'DataValue', 'DataValueAlt', 'DataValueFootnoteSymbol', 'DatavalueFootnote', 'LowConfidenceLimit', 'HighConfidenceLimit', 'StratificationCategory1', 'Stratification1', 'StratificationCategory2', 'Stratification2', 'StratificationCategory3', 'Stratification3', 'GeoLocation', 'ResponseID', 'LocationID', 'TopicID', 'QuestionID', 'DataValueTypeID', 'StratificationCategoryID1', 'StratificationID1', 'StratificationCategoryID2', 'StratificationID2', 'StratificationCategoryID3', 'StratificationID3']\n"
     ]
    }
   ],
   "source": [
    "# Your code here (add additional cells as needed)\n",
    "# Access the metadata section in the data\n",
    "metadata = data['meta']  \n",
    "\n",
    "# Extract the 'columns' key from metadata\n",
    "columns = metadata['view']['columns']  # Adjust path to the columns key\n",
    "\n",
    "# Create a list of strings containing the column names\n",
    "column_names = [column['name'] for column in columns]\n",
    "# Print to verify\n",
    "print(\"Column Names:\", column_names)"
   ]
  },
  {
   "cell_type": "markdown",
   "metadata": {},
   "source": [
    "The following code checks that you have the correct column names:"
   ]
  },
  {
   "cell_type": "code",
   "execution_count": 13,
   "metadata": {},
   "outputs": [],
   "source": [
    "# Run this cell without changes\n",
    "\n",
    "# 42 total columns\n",
    "assert len(column_names) == 42\n",
    "\n",
    "# Each name should be a string, not a dict\n",
    "assert type(column_names[0]) == str and type(column_names[-1]) == str\n",
    "\n",
    "# Check that we have some specific strings\n",
    "assert \"DataValue\" in column_names\n",
    "assert \"LocationDesc\" in column_names\n",
    "assert \"Question\" in column_names\n",
    "assert \"StratificationCategoryID1\" in column_names\n",
    "assert \"DataValueTypeID\" in column_names"
   ]
  },
  {
   "cell_type": "markdown",
   "metadata": {},
   "source": [
    "## Filter Rows Based on Columns\n",
    "\n",
    "Recall that we only want to include records where:\n",
    "\n",
    "* The `'Question'` is `'Current asthma prevalence among adults aged >= 18 years'`\n",
    "* The `'StratificationCategoryID1'` is `'OVERALL'`\n",
    "* The `'DataValueTypeID'` is `'CRDPREV'`\n",
    "* The `'LocationDesc'` is not `'United States'`\n",
    "\n",
    "Combining knowledge of the data and metadata, filter out the rows of data that are not relevant.\n",
    "\n",
    "(You may find the `pandas` library useful here.)"
   ]
  },
  {
   "cell_type": "code",
   "execution_count": 14,
   "metadata": {},
   "outputs": [
    {
     "name": "stdout",
     "output_type": "stream",
     "text": [
      "       sid                                    id  position  created_at  \\\n",
      "9371  9369  6BEC61D0-E04B-44BA-8170-F7D6A4C40A09      9369  1527194523   \n",
      "9372  9370  5D6EDDA9-B241-4498-A262-ED20AB78C44C      9370  1527194523   \n",
      "9373  9371  5FCE0D49-11FD-4545-B9E7-14F503123105      9371  1527194523   \n",
      "9374  9372  68F151CE-3084-402C-B672-78A43FBDE287      9372  1527194523   \n",
      "9375  9373  D3F00ED2-A069-4E40-B42B-5A2528A91B6F      9373  1527194523   \n",
      "9376  9374  A8B4F198-D388-4663-B82B-936C5FB37428      9374  1527194523   \n",
      "9377  9375  B2FB1AEA-5E2A-4E7C-9A93-586EA18EBE99      9375  1527194523   \n",
      "9378  9376  7C5D70DE-DE95-4AAD-A666-2260B5A16363      9376  1527194523   \n",
      "9379  9377  1893C9A3-C6CE-4F47-A66F-85A4F89F244F      9377  1527194523   \n",
      "9380  9378  D47614E3-47D4-40D6-AC29-C434C876F3DF      9378  1527194523   \n",
      "9381  9379  B1F090FC-1E46-467C-8C7D-0B90022A36BB      9379  1527194523   \n",
      "9382  9380  BFF73DC1-4B7B-43AC-9797-5F244999B94A      9380  1527194523   \n",
      "9383  9381  35433725-2434-480F-8DA5-7D74D3CE9A5B      9381  1527194523   \n",
      "9384  9382  8EE36428-84FF-44DA-BABA-86836A3A6E47      9382  1527194523   \n",
      "9385  9383  992D61D5-06F9-4001-AA9B-0F9CE29E001C      9383  1527194523   \n",
      "9386  9384  5CC74C63-269D-4037-93EB-3048D5401548      9384  1527194523   \n",
      "9387  9385  49F933C4-2A17-4F75-B791-526573D3D99F      9385  1527194523   \n",
      "9388  9386  521713DD-8FF1-4232-8608-EA12E8007A4D      9386  1527194523   \n",
      "9389  9387  55EB767F-A700-4E21-93D4-0749ABA918DC      9387  1527194523   \n",
      "9390  9388  B39B1D7E-8D3A-4BE0-AC5D-4D499F3F30C7      9388  1527194523   \n",
      "9391  9389  219420E0-760B-4A02-B0FF-44E9051D34E7      9389  1527194523   \n",
      "9392  9390  E27F81E2-931C-469B-BE46-805EC12B8196      9390  1527194523   \n",
      "9393  9391  3481271B-7943-4A2F-9CEE-1EBCE30E5CB6      9391  1527194523   \n",
      "9394  9392  AC02F97B-445F-40E2-B429-837B256F27E3      9392  1527194523   \n",
      "9395  9393  17BE97D3-36B0-462C-A798-CFEE2E5C974C      9393  1527194523   \n",
      "9396  9394  53D09576-C3BE-45F3-AC0D-8A4D1B1484D9      9394  1527194523   \n",
      "9397  9395  991ACC7D-0ABB-4556-867B-EE4EAA719F0A      9395  1527194523   \n",
      "9398  9396  AD024790-0CC0-43A8-A72A-51A46B4C2533      9396  1527194523   \n",
      "9399  9397  C7692B0C-2B96-4ED1-B24F-9130A54FB75C      9397  1527194523   \n",
      "9400  9398  74FCA8E5-77AB-44A5-91DA-72673AC06AE5      9398  1527194523   \n",
      "9401  9399  B5808B62-230B-4411-9C32-7EDACF28D282      9399  1527194523   \n",
      "9402  9400  3A3C8CBF-9390-456F-AC50-288C76E913AF      9400  1527194523   \n",
      "9403  9401  A9C42246-0D3E-4D4C-BEC5-340F96D6E3DD      9401  1527194523   \n",
      "9404  9402  F16FC172-EDA8-4EA7-8C98-8A0AD5A4E1A9      9402  1527194523   \n",
      "9405  9403  82577FD1-022C-450D-9F94-BC0406EB1754      9403  1527194523   \n",
      "9406  9404  3A409CD0-793D-496F-B057-BCE2190D5DA1      9404  1527194523   \n",
      "9407  9405  85373C9C-B495-44E9-A059-6A6F4688932E      9405  1527194523   \n",
      "9408  9406  F635C6E2-87FD-412A-AB1D-CC5C5E68866D      9406  1527194523   \n",
      "9409  9407  30EA129F-4AEB-4EB6-8D86-4ECD13192D8A      9407  1527194523   \n",
      "9410  9408  8AF769A0-E6E7-4068-A5C7-AC94C41F5CE2      9408  1527194523   \n",
      "9411  9409  043707BE-2A59-43E2-B2EA-71490C2B1F61      9409  1527194523   \n",
      "9412  9410  2DFA337C-DE2C-43D2-9B8A-2CEEDB414B77      9410  1527194523   \n",
      "9413  9411  3A6C0ED2-AD01-4FB4-98CC-BAAB0567C0DB      9411  1527194523   \n",
      "9414  9412  DA122508-115D-40D6-B69F-E0A9078ED9FC      9412  1527194523   \n",
      "9415  9413  5071E1A5-78CA-43AA-8260-4B8668E298F1      9413  1527194523   \n",
      "9416  9414  D44E78AC-6A3B-49BE-BD06-2BE0BAF32407      9414  1527194523   \n",
      "9417  9415  3C55B777-A5D7-4647-8F6E-C18AC47DB4BC      9415  1527194523   \n",
      "9418  9416  64EDA017-2C34-4C67-A393-5D3D22C9658A      9416  1527194523   \n",
      "9419  9417  08F3DC50-0E08-4FC5-8D4C-C020627D1C0B      9417  1527194523   \n",
      "9420  9418  676864A9-3305-4524-AE8A-7FA5C29E821B      9418  1527194523   \n",
      "9421  9419  E2F93B4A-1B4C-4F7D-8C04-5C02C775623D      9419  1527194523   \n",
      "9422  9420  F54F90BC-FE44-4506-80B5-BE61F945B5FC      9420  1527194523   \n",
      "9423  9421  414E8E7D-A3EA-4E3F-81E0-78FCEFCC00BB      9421  1527194523   \n",
      "9424  9422  89C1CB3A-E017-42CD-8A60-48F7365972F0      9422  1527194523   \n",
      "\n",
      "     created_meta  updated_at updated_meta  meta YearStart YearEnd  ...  \\\n",
      "9371       959778  1527194523       959778  None      2016    2016  ...   \n",
      "9372       959778  1527194523       959778  None      2016    2016  ...   \n",
      "9373       959778  1527194523       959778  None      2016    2016  ...   \n",
      "9374       959778  1527194523       959778  None      2016    2016  ...   \n",
      "9375       959778  1527194523       959778  None      2016    2016  ...   \n",
      "9376       959778  1527194523       959778  None      2016    2016  ...   \n",
      "9377       959778  1527194523       959778  None      2016    2016  ...   \n",
      "9378       959778  1527194523       959778  None      2016    2016  ...   \n",
      "9379       959778  1527194523       959778  None      2016    2016  ...   \n",
      "9380       959778  1527194523       959778  None      2016    2016  ...   \n",
      "9381       959778  1527194523       959778  None      2016    2016  ...   \n",
      "9382       959778  1527194523       959778  None      2016    2016  ...   \n",
      "9383       959778  1527194523       959778  None      2016    2016  ...   \n",
      "9384       959778  1527194523       959778  None      2016    2016  ...   \n",
      "9385       959778  1527194523       959778  None      2016    2016  ...   \n",
      "9386       959778  1527194523       959778  None      2016    2016  ...   \n",
      "9387       959778  1527194523       959778  None      2016    2016  ...   \n",
      "9388       959778  1527194523       959778  None      2016    2016  ...   \n",
      "9389       959778  1527194523       959778  None      2016    2016  ...   \n",
      "9390       959778  1527194523       959778  None      2016    2016  ...   \n",
      "9391       959778  1527194523       959778  None      2016    2016  ...   \n",
      "9392       959778  1527194523       959778  None      2016    2016  ...   \n",
      "9393       959778  1527194523       959778  None      2016    2016  ...   \n",
      "9394       959778  1527194523       959778  None      2016    2016  ...   \n",
      "9395       959778  1527194523       959778  None      2016    2016  ...   \n",
      "9396       959778  1527194523       959778  None      2016    2016  ...   \n",
      "9397       959778  1527194523       959778  None      2016    2016  ...   \n",
      "9398       959778  1527194523       959778  None      2016    2016  ...   \n",
      "9399       959778  1527194523       959778  None      2016    2016  ...   \n",
      "9400       959778  1527194523       959778  None      2016    2016  ...   \n",
      "9401       959778  1527194523       959778  None      2016    2016  ...   \n",
      "9402       959778  1527194523       959778  None      2016    2016  ...   \n",
      "9403       959778  1527194523       959778  None      2016    2016  ...   \n",
      "9404       959778  1527194523       959778  None      2016    2016  ...   \n",
      "9405       959778  1527194523       959778  None      2016    2016  ...   \n",
      "9406       959778  1527194523       959778  None      2016    2016  ...   \n",
      "9407       959778  1527194523       959778  None      2016    2016  ...   \n",
      "9408       959778  1527194523       959778  None      2016    2016  ...   \n",
      "9409       959778  1527194523       959778  None      2016    2016  ...   \n",
      "9410       959778  1527194523       959778  None      2016    2016  ...   \n",
      "9411       959778  1527194523       959778  None      2016    2016  ...   \n",
      "9412       959778  1527194523       959778  None      2016    2016  ...   \n",
      "9413       959778  1527194523       959778  None      2016    2016  ...   \n",
      "9414       959778  1527194523       959778  None      2016    2016  ...   \n",
      "9415       959778  1527194523       959778  None      2016    2016  ...   \n",
      "9416       959778  1527194523       959778  None      2016    2016  ...   \n",
      "9417       959778  1527194523       959778  None      2016    2016  ...   \n",
      "9418       959778  1527194523       959778  None      2016    2016  ...   \n",
      "9419       959778  1527194523       959778  None      2016    2016  ...   \n",
      "9420       959778  1527194523       959778  None      2016    2016  ...   \n",
      "9421       959778  1527194523       959778  None      2016    2016  ...   \n",
      "9422       959778  1527194523       959778  None      2016    2016  ...   \n",
      "9423       959778  1527194523       959778  None      2016    2016  ...   \n",
      "9424       959778  1527194523       959778  None      2016    2016  ...   \n",
      "\n",
      "     LocationID TopicID QuestionID DataValueTypeID StratificationCategoryID1  \\\n",
      "9371         01     AST     AST1_1         CRDPREV                   OVERALL   \n",
      "9372         02     AST     AST1_1         CRDPREV                   OVERALL   \n",
      "9373         04     AST     AST1_1         CRDPREV                   OVERALL   \n",
      "9374         05     AST     AST1_1         CRDPREV                   OVERALL   \n",
      "9375         06     AST     AST1_1         CRDPREV                   OVERALL   \n",
      "9376         08     AST     AST1_1         CRDPREV                   OVERALL   \n",
      "9377         09     AST     AST1_1         CRDPREV                   OVERALL   \n",
      "9378         10     AST     AST1_1         CRDPREV                   OVERALL   \n",
      "9379         11     AST     AST1_1         CRDPREV                   OVERALL   \n",
      "9380         12     AST     AST1_1         CRDPREV                   OVERALL   \n",
      "9381         13     AST     AST1_1         CRDPREV                   OVERALL   \n",
      "9382         15     AST     AST1_1         CRDPREV                   OVERALL   \n",
      "9383         16     AST     AST1_1         CRDPREV                   OVERALL   \n",
      "9384         17     AST     AST1_1         CRDPREV                   OVERALL   \n",
      "9385         18     AST     AST1_1         CRDPREV                   OVERALL   \n",
      "9386         19     AST     AST1_1         CRDPREV                   OVERALL   \n",
      "9387         20     AST     AST1_1         CRDPREV                   OVERALL   \n",
      "9388         21     AST     AST1_1         CRDPREV                   OVERALL   \n",
      "9389         22     AST     AST1_1         CRDPREV                   OVERALL   \n",
      "9390         23     AST     AST1_1         CRDPREV                   OVERALL   \n",
      "9391         24     AST     AST1_1         CRDPREV                   OVERALL   \n",
      "9392         25     AST     AST1_1         CRDPREV                   OVERALL   \n",
      "9393         26     AST     AST1_1         CRDPREV                   OVERALL   \n",
      "9394         27     AST     AST1_1         CRDPREV                   OVERALL   \n",
      "9395         28     AST     AST1_1         CRDPREV                   OVERALL   \n",
      "9396         29     AST     AST1_1         CRDPREV                   OVERALL   \n",
      "9397         30     AST     AST1_1         CRDPREV                   OVERALL   \n",
      "9398         31     AST     AST1_1         CRDPREV                   OVERALL   \n",
      "9399         32     AST     AST1_1         CRDPREV                   OVERALL   \n",
      "9400         33     AST     AST1_1         CRDPREV                   OVERALL   \n",
      "9401         34     AST     AST1_1         CRDPREV                   OVERALL   \n",
      "9402         35     AST     AST1_1         CRDPREV                   OVERALL   \n",
      "9403         36     AST     AST1_1         CRDPREV                   OVERALL   \n",
      "9404         37     AST     AST1_1         CRDPREV                   OVERALL   \n",
      "9405         38     AST     AST1_1         CRDPREV                   OVERALL   \n",
      "9406         39     AST     AST1_1         CRDPREV                   OVERALL   \n",
      "9407         40     AST     AST1_1         CRDPREV                   OVERALL   \n",
      "9408         41     AST     AST1_1         CRDPREV                   OVERALL   \n",
      "9409         42     AST     AST1_1         CRDPREV                   OVERALL   \n",
      "9410         44     AST     AST1_1         CRDPREV                   OVERALL   \n",
      "9411         45     AST     AST1_1         CRDPREV                   OVERALL   \n",
      "9412         46     AST     AST1_1         CRDPREV                   OVERALL   \n",
      "9413         47     AST     AST1_1         CRDPREV                   OVERALL   \n",
      "9414         48     AST     AST1_1         CRDPREV                   OVERALL   \n",
      "9415         49     AST     AST1_1         CRDPREV                   OVERALL   \n",
      "9416         50     AST     AST1_1         CRDPREV                   OVERALL   \n",
      "9417         51     AST     AST1_1         CRDPREV                   OVERALL   \n",
      "9418         53     AST     AST1_1         CRDPREV                   OVERALL   \n",
      "9419         54     AST     AST1_1         CRDPREV                   OVERALL   \n",
      "9420         55     AST     AST1_1         CRDPREV                   OVERALL   \n",
      "9421         56     AST     AST1_1         CRDPREV                   OVERALL   \n",
      "9422         66     AST     AST1_1         CRDPREV                   OVERALL   \n",
      "9423         72     AST     AST1_1         CRDPREV                   OVERALL   \n",
      "9424         78     AST     AST1_1         CRDPREV                   OVERALL   \n",
      "\n",
      "     StratificationID1 StratificationCategoryID2 StratificationID2  \\\n",
      "9371               OVR                      None              None   \n",
      "9372               OVR                      None              None   \n",
      "9373               OVR                      None              None   \n",
      "9374               OVR                      None              None   \n",
      "9375               OVR                      None              None   \n",
      "9376               OVR                      None              None   \n",
      "9377               OVR                      None              None   \n",
      "9378               OVR                      None              None   \n",
      "9379               OVR                      None              None   \n",
      "9380               OVR                      None              None   \n",
      "9381               OVR                      None              None   \n",
      "9382               OVR                      None              None   \n",
      "9383               OVR                      None              None   \n",
      "9384               OVR                      None              None   \n",
      "9385               OVR                      None              None   \n",
      "9386               OVR                      None              None   \n",
      "9387               OVR                      None              None   \n",
      "9388               OVR                      None              None   \n",
      "9389               OVR                      None              None   \n",
      "9390               OVR                      None              None   \n",
      "9391               OVR                      None              None   \n",
      "9392               OVR                      None              None   \n",
      "9393               OVR                      None              None   \n",
      "9394               OVR                      None              None   \n",
      "9395               OVR                      None              None   \n",
      "9396               OVR                      None              None   \n",
      "9397               OVR                      None              None   \n",
      "9398               OVR                      None              None   \n",
      "9399               OVR                      None              None   \n",
      "9400               OVR                      None              None   \n",
      "9401               OVR                      None              None   \n",
      "9402               OVR                      None              None   \n",
      "9403               OVR                      None              None   \n",
      "9404               OVR                      None              None   \n",
      "9405               OVR                      None              None   \n",
      "9406               OVR                      None              None   \n",
      "9407               OVR                      None              None   \n",
      "9408               OVR                      None              None   \n",
      "9409               OVR                      None              None   \n",
      "9410               OVR                      None              None   \n",
      "9411               OVR                      None              None   \n",
      "9412               OVR                      None              None   \n",
      "9413               OVR                      None              None   \n",
      "9414               OVR                      None              None   \n",
      "9415               OVR                      None              None   \n",
      "9416               OVR                      None              None   \n",
      "9417               OVR                      None              None   \n",
      "9418               OVR                      None              None   \n",
      "9419               OVR                      None              None   \n",
      "9420               OVR                      None              None   \n",
      "9421               OVR                      None              None   \n",
      "9422               OVR                      None              None   \n",
      "9423               OVR                      None              None   \n",
      "9424               OVR                      None              None   \n",
      "\n",
      "     StratificationCategoryID3 StratificationID3  \n",
      "9371                      None              None  \n",
      "9372                      None              None  \n",
      "9373                      None              None  \n",
      "9374                      None              None  \n",
      "9375                      None              None  \n",
      "9376                      None              None  \n",
      "9377                      None              None  \n",
      "9378                      None              None  \n",
      "9379                      None              None  \n",
      "9380                      None              None  \n",
      "9381                      None              None  \n",
      "9382                      None              None  \n",
      "9383                      None              None  \n",
      "9384                      None              None  \n",
      "9385                      None              None  \n",
      "9386                      None              None  \n",
      "9387                      None              None  \n",
      "9388                      None              None  \n",
      "9389                      None              None  \n",
      "9390                      None              None  \n",
      "9391                      None              None  \n",
      "9392                      None              None  \n",
      "9393                      None              None  \n",
      "9394                      None              None  \n",
      "9395                      None              None  \n",
      "9396                      None              None  \n",
      "9397                      None              None  \n",
      "9398                      None              None  \n",
      "9399                      None              None  \n",
      "9400                      None              None  \n",
      "9401                      None              None  \n",
      "9402                      None              None  \n",
      "9403                      None              None  \n",
      "9404                      None              None  \n",
      "9405                      None              None  \n",
      "9406                      None              None  \n",
      "9407                      None              None  \n",
      "9408                      None              None  \n",
      "9409                      None              None  \n",
      "9410                      None              None  \n",
      "9411                      None              None  \n",
      "9412                      None              None  \n",
      "9413                      None              None  \n",
      "9414                      None              None  \n",
      "9415                      None              None  \n",
      "9416                      None              None  \n",
      "9417                      None              None  \n",
      "9418                      None              None  \n",
      "9419                      None              None  \n",
      "9420                      None              None  \n",
      "9421                      None              None  \n",
      "9422                      None              None  \n",
      "9423                      None              None  \n",
      "9424                      None              None  \n",
      "\n",
      "[54 rows x 42 columns]\n"
     ]
    }
   ],
   "source": [
    "# Your code here (add additional cells as needed)\n",
    "import pandas as pd\n",
    "\n",
    "# Assume 'data' is the list of lists containing your data\n",
    "# Create a DataFrame using the data and column names\n",
    "df = pd.DataFrame(data['data'], columns=column_names)\n",
    "\n",
    "# Apply the filtering conditions:\n",
    "filtered_df = df[\n",
    "    (df['Question'] == 'Current asthma prevalence among adults aged >= 18 years') &\n",
    "    (df['StratificationCategoryID1'] == 'OVERALL') &\n",
    "    (df['DataValueTypeID'] == 'CRDPREV') &\n",
    "    (df['LocationDesc'] != 'United States')\n",
    "]\n",
    "\n",
    "# Display the filtered DataFrame\n",
    "print(filtered_df)"
   ]
  },
  {
   "cell_type": "markdown",
   "metadata": {},
   "source": [
    "You should have 54 records after filtering.\n",
    "\n",
    "## Extract the Attributes Required for Plotting\n",
    "\n",
    "For each record, the only information we actually need for the graph is the `'DataValue'` and `'LocationDesc'`. Create a list of records that only contains these two attributes.\n",
    "\n",
    "Also, make sure that the data values are numbers, not strings."
   ]
  },
  {
   "cell_type": "code",
   "execution_count": 15,
   "metadata": {},
   "outputs": [],
   "source": [
    "# Your code here (create additional cells as needed)\n",
    "# Select only the 'DataValue' and 'LocationDesc' columns from the filtered DataFrame\n",
    "filtered_df = filtered_df[['DataValue', 'LocationDesc']]\n",
    "\n",
    "# Convert 'DataValue' to numeric (if it's not already numeric)\n",
    "filtered_df['DataValue'] = pd.to_numeric(filtered_df['DataValue'], errors='coerce')\n",
    "\n",
    "# Drop any rows where 'DataValue' is NaN (in case there were invalid entries)\n",
    "filtered_df = filtered_df.dropna(subset=['DataValue'])\n",
    "\n",
    "# Convert the DataFrame to a list of records (list of dictionaries)\n",
    "records_for_plotting = filtered_df.to_dict(orient='records')"
   ]
  },
  {
   "cell_type": "markdown",
   "metadata": {},
   "source": [
    "## Find Top 10 States\n",
    "\n",
    "Sort by `'DataValue'` and limit to the first 10 records."
   ]
  },
  {
   "cell_type": "code",
   "execution_count": 16,
   "metadata": {},
   "outputs": [
    {
     "name": "stdout",
     "output_type": "stream",
     "text": [
      "      DataValue   LocationDesc\n",
      "9390       12.2          Maine\n",
      "9402       11.8     New Mexico\n",
      "9419       11.8  West Virginia\n",
      "9388       11.6       Kentucky\n",
      "9400       11.4  New Hampshire\n",
      "9393       10.9       Michigan\n",
      "9413       10.9      Tennessee\n",
      "9382       10.7         Hawaii\n",
      "9423       10.7    Puerto Rico\n",
      "9410       10.7   Rhode Island\n"
     ]
    }
   ],
   "source": [
    "# Sort the DataFrame by 'DataValue' in descending order\n",
    "top_10_states = filtered_df.sort_values(by='DataValue', ascending=False).head(10)\n",
    "\n",
    "# Print the top 10 records to verify\n",
    "print(top_10_states)"
   ]
  },
  {
   "cell_type": "markdown",
   "metadata": {},
   "source": [
    "## Separate the Names and Values for Plotting\n",
    "\n",
    "Assign the names of the top 10 states to a list-like variable `names`, and the associated values to a list-like variable `values`. Then the plotting code below should work correctly to make the desired bar graph."
   ]
  },
  {
   "cell_type": "markdown",
   "metadata": {},
   "source": [
    "Below we display this variable as a table using pandas:"
   ]
  },
  {
   "cell_type": "code",
   "execution_count": 17,
   "metadata": {},
   "outputs": [
    {
     "name": "stdout",
     "output_type": "stream",
     "text": [
      "Names: ['Maine', 'New Mexico', 'West Virginia', 'Kentucky', 'New Hampshire', 'Michigan', 'Tennessee', 'Hawaii', 'Puerto Rico', 'Rhode Island']\n",
      "Values: [12.2, 11.8, 11.8, 11.6, 11.4, 10.9, 10.9, 10.7, 10.7, 10.7]\n"
     ]
    }
   ],
   "source": [
    "# Extract the 'LocationDesc' (names of the states) and 'DataValue' (values) for the top 10 states\n",
    "names = top_10_states['LocationDesc'].tolist()\n",
    "values = top_10_states['DataValue'].tolist()\n",
    "\n",
    "# Print the names and values to verify\n",
    "print(\"Names:\", names)\n",
    "print(\"Values:\", values)\n",
    "# Replace None with appropriate code\n",
    "# Extract the 'LocationDesc' (names of the states) and 'DataValue' (values) for the top 10 states\n",
    "names = top_10_states['LocationDesc'].tolist()\n",
    "values = top_10_states['DataValue'].tolist()\n",
    "\n"
   ]
  },
  {
   "cell_type": "code",
   "execution_count": 19,
   "metadata": {},
   "outputs": [
    {
     "data": {
      "image/png": "[encoded data removed]",
      "text/plain": [
       "<Figure size 640x480 with 1 Axes>"
      ]
     },
     "metadata": {},
     "output_type": "display_data"
    }
   ],
   "source": [
    "# Run this cell without changes\n",
    "\n",
    "import matplotlib.pyplot as plt\n",
    "fig, ax = plt.subplots()\n",
    "\n",
    "ax.barh(names[::-1], values[::-1]) # Values inverted so highest is at top\n",
    "ax.set_title('Adult Asthma Rates by State in 2016')\n",
    "ax.set_xlabel('Percent 18+ with Asthma');"
   ]
  },
  {
   "cell_type": "markdown",
   "metadata": {},
   "source": [
    "## Summary\n",
    "\n",
    "In this lab you got some extended practice exploring the structure of JSON files and visualizing data."
   ]
  }
 ],
 "metadata": {
  "kernelspec": {
   "display_name": "DataScience_env",
   "language": "python",
   "name": "python3"
  },
  "language_info": {
   "codemirror_mode": {
    "name": "ipython",
    "version": 3
   },
   "file_extension": ".py",
   "mimetype": "text/x-python",
   "name": "python",
   "nbconvert_exporter": "python",
   "pygments_lexer": "ipython3",
   "version": "3.11.7"
  },
  "toc": {
   "base_numbering": 1,
   "nav_menu": {},
   "number_sections": true,
   "sideBar": true,
   "skip_h1_title": false,
   "title_cell": "Table of Contents",
   "title_sidebar": "Contents",
   "toc_cell": false,
   "toc_position": {},
   "toc_section_display": true,
   "toc_window_display": false
  }
 },
 "nbformat": 4,
 "nbformat_minor": 2
}
